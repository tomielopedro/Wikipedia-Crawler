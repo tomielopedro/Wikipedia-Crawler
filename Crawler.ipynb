{
 "cells": [
  {
   "metadata": {},
   "cell_type": "markdown",
   "source": "# Crawler",
   "id": "a66dc4815996c96c"
  },
  {
   "metadata": {
    "ExecuteTime": {
     "end_time": "2025-08-22T13:42:22.704521Z",
     "start_time": "2025-08-22T13:42:22.700920Z"
    }
   },
   "cell_type": "code",
   "source": [
    "import re\n",
    "from urllib.request import urlopen\n",
    "from bs4 import BeautifulSoup\n",
    "# 1. PEGAR TODOS OS LINKS RELEVANTES (que começam com /wiki/)\n",
    "\n",
    "def find_url(url):\n",
    "    wikipedia_base_url = 'https://pt.wikipedia.org'\n",
    "    html = urlopen(base_url)\n",
    "    site = html.read()\n",
    "    soup = BeautifulSoup(site)\n",
    "    todos_os_links_tags = soup.find_all('a', href=re.compile(r'^/wiki/'))\n",
    "    todos_os_hrefs = {tag['href'] for tag in todos_os_links_tags}\n",
    "    \n",
    "    # 2. REGEX: Começa com /wiki/ e NÃO contém ':' em lugar nenhum\n",
    "    padrao_regex = re.compile(r\"^/wiki/(?!.*[:()\\[\\]0-9])\")\n",
    "    \n",
    "    \n",
    "    links_mantidos_tags = soup.find_all('a', href=padrao_regex)\n",
    "    links_mantidos_hrefs = {\n",
    "        href\n",
    "        for href in todos_os_hrefs\n",
    "        if padrao_regex.match(href)                              # não tem ':'\n",
    "    }\n",
    "    \n",
    "    links_excluidos = todos_os_hrefs - links_mantidos_hrefs\n",
    "    # 3. ENCONTRAR OS EXCLUÍDOS USANDO A DIFERENÇA DE CONJUNTOS\n",
    "    links_to_search = [f'{base_url}{link}' for link in links_mantidos_hrefs]\n",
    "    return links_to_search\n"
   ],
   "id": "ca6e29f911f65f27",
   "outputs": [],
   "execution_count": 10
  },
  {
   "metadata": {},
   "cell_type": "markdown",
   "source": "",
   "id": "579e448d3d27674"
  },
  {
   "metadata": {
    "ExecuteTime": {
     "end_time": "2025-08-22T13:42:36.819248Z",
     "start_time": "2025-08-22T13:42:36.571836Z"
    }
   },
   "cell_type": "code",
   "source": [
    "base_url = 'https://pt.wikipedia.org'\n",
    "\n",
    "find_url(base_url)\n"
   ],
   "id": "fe66137be832e7cb",
   "outputs": [
    {
     "data": {
      "text/plain": [
       "['https://pt.wikipedia.org/wiki/Circa',\n",
       " 'https://pt.wikipedia.org/wiki/Minuto',\n",
       " 'https://pt.wikipedia.org/wiki/Foguete_espacial',\n",
       " 'https://pt.wikipedia.org/wiki/Astrologia',\n",
       " 'https://pt.wikipedia.org/wiki/If_You_Had_My_Love',\n",
       " 'https://pt.wikipedia.org/wiki/Claude_Debussy',\n",
       " 'https://pt.wikipedia.org/wiki/Presidente_do_Brasil',\n",
       " 'https://pt.wikipedia.org/wiki/Artur_Bernardes',\n",
       " 'https://pt.wikipedia.org/wiki/Jair_Bolsonaro',\n",
       " 'https://pt.wikipedia.org/wiki/Ricardo_III_de_Inglaterra',\n",
       " 'https://pt.wikipedia.org/wiki/Norma_Nolan',\n",
       " 'https://pt.wikipedia.org/wiki/Walter_Afanasieff',\n",
       " 'https://pt.wikipedia.org/wiki/Negros',\n",
       " 'https://pt.wikipedia.org/wiki/Hoax',\n",
       " 'https://pt.wikipedia.org/wiki/Lista_de_soberanos_da_Hungria',\n",
       " 'https://pt.wikipedia.org/wiki/All_I_Want_for_Christmas_Is_You',\n",
       " 'https://pt.wikipedia.org/wiki/Dua_Lipa',\n",
       " 'https://pt.wikipedia.org/wiki/Frank_Caprio',\n",
       " 'https://pt.wikipedia.org/wiki/Abolicionismo_no_Brasil',\n",
       " 'https://pt.wikipedia.org/wiki/Juscelino_Kubitschek',\n",
       " 'https://pt.wikipedia.org/wiki/Mariah_Carey',\n",
       " 'https://pt.wikipedia.org/wiki/Guerra_das_Rosas',\n",
       " 'https://pt.wikipedia.org/wiki/Assassinato_de_Miguel_Uribe_Turbay',\n",
       " 'https://pt.wikipedia.org/wiki/Brasil',\n",
       " 'https://pt.wikipedia.org/wiki/James_Dobson',\n",
       " 'https://pt.wikipedia.org/wiki/Segunda_Guerra_Mundial',\n",
       " 'https://pt.wikipedia.org/wiki/Glauber_Rocha',\n",
       " 'https://pt.wikipedia.org/wiki/Bocejo',\n",
       " 'https://pt.wikipedia.org/wiki/Conflito_do_Alto_Carabaque',\n",
       " 'https://pt.wikipedia.org/wiki/Quiomara',\n",
       " 'https://pt.wikipedia.org/wiki/Razak_Omotoyossi',\n",
       " 'https://pt.wikipedia.org/wiki/Gylmar_dos_Santos_Neves',\n",
       " 'https://pt.wikipedia.org/wiki/Masai_Mara',\n",
       " 'https://pt.wikipedia.org/wiki/Enaex_Brasil',\n",
       " 'https://pt.wikipedia.org/wiki/Maria_Firmina_dos_Reis',\n",
       " 'https://pt.wikipedia.org/wiki/Batalha_de_Bosworth_Field',\n",
       " 'https://pt.wikipedia.org/wiki/Miguel_Uribe_Turbay',\n",
       " 'https://pt.wikipedia.org/wiki/MediaWiki',\n",
       " 'https://pt.wikipedia.org/wiki/Estupros_de_guerra',\n",
       " 'https://pt.wikipedia.org/wiki/Wiki',\n",
       " 'https://pt.wikipedia.org/wiki/Jomo_Kenyatta',\n",
       " 'https://pt.wikipedia.org/wiki/Romancista',\n",
       " 'https://pt.wikipedia.org/wiki/Dinastia_Plantageneta',\n",
       " 'https://pt.wikipedia.org/wiki/Ruy_Guerra',\n",
       " 'https://pt.wikipedia.org/wiki/Eemeli_Peltonen']"
      ]
     },
     "execution_count": 11,
     "metadata": {},
     "output_type": "execute_result"
    }
   ],
   "execution_count": 11
  },
  {
   "metadata": {},
   "cell_type": "code",
   "outputs": [],
   "execution_count": null,
   "source": "",
   "id": "a80c32f1ccceff63"
  }
 ],
 "metadata": {
  "kernelspec": {
   "display_name": "Python 3",
   "language": "python",
   "name": "python3"
  },
  "language_info": {
   "codemirror_mode": {
    "name": "ipython",
    "version": 2
   },
   "file_extension": ".py",
   "mimetype": "text/x-python",
   "name": "python",
   "nbconvert_exporter": "python",
   "pygments_lexer": "ipython2",
   "version": "2.7.6"
  }
 },
 "nbformat": 4,
 "nbformat_minor": 5
}

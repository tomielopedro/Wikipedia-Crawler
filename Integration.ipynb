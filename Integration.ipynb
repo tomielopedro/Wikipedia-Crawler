{
 "cells": [
  {
   "metadata": {
    "ExecuteTime": {
     "end_time": "2025-08-22T13:43:30.538810Z",
     "start_time": "2025-08-22T13:43:30.479823Z"
    }
   },
   "cell_type": "code",
   "source": [
    "from urllib.request import urlopen\n",
    "from bs4 import BeautifulSoup\n",
    "import regex as re\n"
   ],
   "id": "649d298fd9b9bbe",
   "outputs": [],
   "execution_count": 2
  },
  {
   "cell_type": "code",
   "id": "initial_id",
   "metadata": {
    "collapsed": true,
    "ExecuteTime": {
     "end_time": "2025-08-22T13:43:30.541369Z",
     "start_time": "2025-08-22T13:43:30.539563Z"
    }
   },
   "source": [
    "def eh_pessoa(url):\n",
    "    html = urlopen(url)\n",
    "    site = html.read()\n",
    "    soup = BeautifulSoup(site, 'html.parser')\n",
    "    \n",
    "    infobox = soup.find_all(\"table\", class_=re.compile(\"^[iI]nfobox\"))\n",
    "    if infobox is not None:\n",
    "        atributos = []\n",
    "        for linha in infobox:\n",
    "            x = linha.find_all('td', {'scope': \"row\"})\n",
    "            for i in x:\n",
    "                atributos.append(i)\n",
    "    else:\n",
    "        print(\"Sem infobox\")\n",
    "    \n",
    "    for at in atributos:\n",
    "        # Criar if's com regex para encontrar atributos de pessoas\n",
    "        # Ex: Nome completo, Nome, Data de nascimento, Nascimento, Nacionalidade, Assinatura etc.\n",
    "        if re.search(\"[nN]ome\", at.text):\n",
    "            pass"
   ],
   "outputs": [],
   "execution_count": 3
  },
  {
   "metadata": {
    "ExecuteTime": {
     "end_time": "2025-08-22T13:43:30.543978Z",
     "start_time": "2025-08-22T13:43:30.541908Z"
    }
   },
   "cell_type": "code",
   "source": [
    "import re\n",
    "from urllib.request import urlopen\n",
    "from bs4 import BeautifulSoup\n",
    "# 1. PEGAR TODOS OS LINKS RELEVANTES (que começam com /wiki/)\n",
    "\n",
    "def find_url(url):\n",
    "    wikipedia_base_url = 'https://pt.wikipedia.org'\n",
    "    html = urlopen(url)\n",
    "    site = html.read()\n",
    "    soup = BeautifulSoup(site)\n",
    "    todos_os_links_tags = soup.find_all('a', href=re.compile(r'^/wiki/'))\n",
    "    todos_os_hrefs = {tag['href'] for tag in todos_os_links_tags}\n",
    "    \n",
    "    # 2. REGEX: Começa com /wiki/ e NÃO contém ':' em lugar nenhum\n",
    "    padrao_regex = re.compile(r\"^/wiki/(?!.*[:()\\[\\]0-9])\")\n",
    "    \n",
    "    \n",
    "    links_mantidos_tags = soup.find_all('a', href=padrao_regex)\n",
    "    links_mantidos_hrefs = {\n",
    "        href\n",
    "        for href in todos_os_hrefs\n",
    "        if padrao_regex.match(href)                              # não tem ':'\n",
    "    }\n",
    "    \n",
    "    links_excluidos = todos_os_hrefs - links_mantidos_hrefs\n",
    "    # 3. ENCONTRAR OS EXCLUÍDOS USANDO A DIFERENÇA DE CONJUNTOS\n",
    "    links_to_search = [f'{wikipedia_base_url}{link}' for link in links_mantidos_hrefs]\n",
    "    return links_to_search\n"
   ],
   "id": "d914c568e0c4eb16",
   "outputs": [],
   "execution_count": 4
  },
  {
   "metadata": {
    "ExecuteTime": {
     "end_time": "2025-08-22T13:43:34.951106Z",
     "start_time": "2025-08-22T13:43:34.683486Z"
    }
   },
   "cell_type": "code",
   "source": [
    "base_url = 'https://pt.wikipedia.org'\n",
    "\n",
    "links = find_url(base_url)\n",
    "links"
   ],
   "id": "b533510916698d78",
   "outputs": [
    {
     "data": {
      "text/plain": [
       "['https://pt.wikipedia.org/wiki/Negros',\n",
       " 'https://pt.wikipedia.org/wiki/Assassinato_de_Miguel_Uribe_Turbay',\n",
       " 'https://pt.wikipedia.org/wiki/Segunda_Guerra_Mundial',\n",
       " 'https://pt.wikipedia.org/wiki/Artur_Bernardes',\n",
       " 'https://pt.wikipedia.org/wiki/Eemeli_Peltonen',\n",
       " 'https://pt.wikipedia.org/wiki/Claude_Debussy',\n",
       " 'https://pt.wikipedia.org/wiki/Quiomara',\n",
       " 'https://pt.wikipedia.org/wiki/Presidente_do_Brasil',\n",
       " 'https://pt.wikipedia.org/wiki/Juscelino_Kubitschek',\n",
       " 'https://pt.wikipedia.org/wiki/Lista_de_soberanos_da_Hungria',\n",
       " 'https://pt.wikipedia.org/wiki/If_You_Had_My_Love',\n",
       " 'https://pt.wikipedia.org/wiki/Razak_Omotoyossi',\n",
       " 'https://pt.wikipedia.org/wiki/Estupros_de_guerra',\n",
       " 'https://pt.wikipedia.org/wiki/Foguete_espacial',\n",
       " 'https://pt.wikipedia.org/wiki/Ruy_Guerra',\n",
       " 'https://pt.wikipedia.org/wiki/Frank_Caprio',\n",
       " 'https://pt.wikipedia.org/wiki/Glauber_Rocha',\n",
       " 'https://pt.wikipedia.org/wiki/Gylmar_dos_Santos_Neves',\n",
       " 'https://pt.wikipedia.org/wiki/Walter_Afanasieff',\n",
       " 'https://pt.wikipedia.org/wiki/Astrologia',\n",
       " 'https://pt.wikipedia.org/wiki/Hoax',\n",
       " 'https://pt.wikipedia.org/wiki/Enaex_Brasil',\n",
       " 'https://pt.wikipedia.org/wiki/Batalha_de_Bosworth_Field',\n",
       " 'https://pt.wikipedia.org/wiki/Circa',\n",
       " 'https://pt.wikipedia.org/wiki/Bocejo',\n",
       " 'https://pt.wikipedia.org/wiki/Norma_Nolan',\n",
       " 'https://pt.wikipedia.org/wiki/James_Dobson',\n",
       " 'https://pt.wikipedia.org/wiki/Minuto',\n",
       " 'https://pt.wikipedia.org/wiki/Mariah_Carey',\n",
       " 'https://pt.wikipedia.org/wiki/Jair_Bolsonaro',\n",
       " 'https://pt.wikipedia.org/wiki/Dua_Lipa',\n",
       " 'https://pt.wikipedia.org/wiki/Wiki',\n",
       " 'https://pt.wikipedia.org/wiki/Guerra_das_Rosas',\n",
       " 'https://pt.wikipedia.org/wiki/Miguel_Uribe_Turbay',\n",
       " 'https://pt.wikipedia.org/wiki/Dinastia_Plantageneta',\n",
       " 'https://pt.wikipedia.org/wiki/Conflito_do_Alto_Carabaque',\n",
       " 'https://pt.wikipedia.org/wiki/Brasil',\n",
       " 'https://pt.wikipedia.org/wiki/Jomo_Kenyatta',\n",
       " 'https://pt.wikipedia.org/wiki/Masai_Mara',\n",
       " 'https://pt.wikipedia.org/wiki/Maria_Firmina_dos_Reis',\n",
       " 'https://pt.wikipedia.org/wiki/Abolicionismo_no_Brasil',\n",
       " 'https://pt.wikipedia.org/wiki/All_I_Want_for_Christmas_Is_You',\n",
       " 'https://pt.wikipedia.org/wiki/Romancista',\n",
       " 'https://pt.wikipedia.org/wiki/Ricardo_III_de_Inglaterra',\n",
       " 'https://pt.wikipedia.org/wiki/MediaWiki']"
      ]
     },
     "execution_count": 6,
     "metadata": {},
     "output_type": "execute_result"
    }
   ],
   "execution_count": 6
  },
  {
   "metadata": {
    "ExecuteTime": {
     "end_time": "2025-08-22T13:43:30.863534Z",
     "start_time": "2025-08-22T13:43:30.859568Z"
    }
   },
   "cell_type": "code",
   "source": [
    "links_pessoas = []\n",
    "for link in links:\n",
    "    if eh_pessoa(link):\n",
    "        print(link)\n",
    "        links_pessoas.append(link)\n",
    "        \n",
    "print(links_pessoas)\n",
    "        "
   ],
   "id": "e90a31236a06fb5a",
   "outputs": [],
   "execution_count": 5
  }
 ],
 "metadata": {
  "kernelspec": {
   "display_name": "Python 3",
   "language": "python",
   "name": "python3"
  },
  "language_info": {
   "codemirror_mode": {
    "name": "ipython",
    "version": 2
   },
   "file_extension": ".py",
   "mimetype": "text/x-python",
   "name": "python",
   "nbconvert_exporter": "python",
   "pygments_lexer": "ipython2",
   "version": "2.7.6"
  }
 },
 "nbformat": 4,
 "nbformat_minor": 5
}

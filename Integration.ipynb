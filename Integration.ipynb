{
 "cells": [
  {
   "cell_type": "code",
   "execution_count": 1,
   "id": "649d298fd9b9bbe",
   "metadata": {
    "ExecuteTime": {
     "end_time": "2025-08-22T13:43:30.538810Z",
     "start_time": "2025-08-22T13:43:30.479823Z"
    }
   },
   "outputs": [],
   "source": [
    "from urllib.request import urlopen\n",
    "from bs4 import BeautifulSoup\n",
    "import regex as re\n"
   ]
  },
  {
   "cell_type": "code",
   "execution_count": 7,
   "id": "initial_id",
   "metadata": {
    "ExecuteTime": {
     "end_time": "2025-08-22T13:43:30.541369Z",
     "start_time": "2025-08-22T13:43:30.539563Z"
    },
    "collapsed": true
   },
   "outputs": [],
   "source": [
    "def eh_pessoa(url):\n",
    "    html = urlopen(url)\n",
    "    site = html.read()\n",
    "    soup = BeautifulSoup(site, 'html.parser')\n",
    "    \n",
    "    infobox = soup.find_all(\"table\", class_=re.compile(\"^[iI]nfobox\"))\n",
    "    if infobox is not None:\n",
    "        atributos = []\n",
    "        for linha in infobox:\n",
    "            x = linha.find_all('td', {'scope': \"row\"})\n",
    "            for i in x:\n",
    "                atributos.append(i)\n",
    "    else:\n",
    "        print(\"Sem infobox\")\n",
    "    \n",
    "    for at in atributos:\n",
    "        # Criar if's com regex para encontrar atributos de pessoas\n",
    "        # Ex: Nome completo, Nome, Data de nascimento, Nascimento, Nacionalidade, Assinatura etc.\n",
    "        return re.search(\"[nN]ome\", at.text)\n",
    "    return False"
   ]
  },
  {
   "cell_type": "code",
   "execution_count": 3,
   "id": "d914c568e0c4eb16",
   "metadata": {
    "ExecuteTime": {
     "end_time": "2025-08-22T13:43:30.543978Z",
     "start_time": "2025-08-22T13:43:30.541908Z"
    }
   },
   "outputs": [],
   "source": [
    "import re\n",
    "from urllib.request import urlopen\n",
    "from bs4 import BeautifulSoup\n",
    "# 1. PEGAR TODOS OS LINKS RELEVANTES (que começam com /wiki/)\n",
    "\n",
    "def find_url(url):\n",
    "    wikipedia_base_url = 'https://pt.wikipedia.org'\n",
    "    html = urlopen(url)\n",
    "    site = html.read()\n",
    "    soup = BeautifulSoup(site)\n",
    "    todos_os_links_tags = soup.find_all('a', href=re.compile(r'^/wiki/'))\n",
    "    todos_os_hrefs = {tag['href'] for tag in todos_os_links_tags}\n",
    "    \n",
    "    # 2. REGEX: Começa com /wiki/ e NÃO contém ':' em lugar nenhum\n",
    "    padrao_regex = re.compile(r\"^/wiki/(?!.*[:()\\[\\]0-9])\")\n",
    "    \n",
    "    \n",
    "    links_mantidos_tags = soup.find_all('a', href=padrao_regex)\n",
    "    links_mantidos_hrefs = {\n",
    "        href\n",
    "        for href in todos_os_hrefs\n",
    "        if padrao_regex.match(href)                              # não tem ':'\n",
    "    }\n",
    "    \n",
    "    links_excluidos = todos_os_hrefs - links_mantidos_hrefs\n",
    "    # 3. ENCONTRAR OS EXCLUÍDOS USANDO A DIFERENÇA DE CONJUNTOS\n",
    "    links_to_search = [f'{wikipedia_base_url}{link}' for link in links_mantidos_hrefs]\n",
    "    return links_to_search\n"
   ]
  },
  {
   "cell_type": "code",
   "execution_count": 4,
   "id": "b533510916698d78",
   "metadata": {
    "ExecuteTime": {
     "end_time": "2025-08-22T13:43:34.951106Z",
     "start_time": "2025-08-22T13:43:34.683486Z"
    }
   },
   "outputs": [
    {
     "data": {
      "text/plain": [
       "['https://pt.wikipedia.org/wiki/Artur_Bernardes',\n",
       " 'https://pt.wikipedia.org/wiki/Ricardo_III_de_Inglaterra',\n",
       " 'https://pt.wikipedia.org/wiki/Razak_Omotoyossi',\n",
       " 'https://pt.wikipedia.org/wiki/Lista_de_soberanos_da_Hungria',\n",
       " 'https://pt.wikipedia.org/wiki/Batalha_de_Bosworth_Field',\n",
       " 'https://pt.wikipedia.org/wiki/Frank_Caprio',\n",
       " 'https://pt.wikipedia.org/wiki/Abolicionismo_no_Brasil',\n",
       " 'https://pt.wikipedia.org/wiki/Romancista',\n",
       " 'https://pt.wikipedia.org/wiki/MediaWiki',\n",
       " 'https://pt.wikipedia.org/wiki/Hoax',\n",
       " 'https://pt.wikipedia.org/wiki/Estupros_de_guerra',\n",
       " 'https://pt.wikipedia.org/wiki/Mariah_Carey',\n",
       " 'https://pt.wikipedia.org/wiki/Ruy_Guerra',\n",
       " 'https://pt.wikipedia.org/wiki/Glauber_Rocha',\n",
       " 'https://pt.wikipedia.org/wiki/Astrologia',\n",
       " 'https://pt.wikipedia.org/wiki/Negros',\n",
       " 'https://pt.wikipedia.org/wiki/Minuto',\n",
       " 'https://pt.wikipedia.org/wiki/Norma_Nolan',\n",
       " 'https://pt.wikipedia.org/wiki/James_Dobson',\n",
       " 'https://pt.wikipedia.org/wiki/Jomo_Kenyatta',\n",
       " 'https://pt.wikipedia.org/wiki/Masai_Mara',\n",
       " 'https://pt.wikipedia.org/wiki/Claude_Debussy',\n",
       " 'https://pt.wikipedia.org/wiki/Quiomara',\n",
       " 'https://pt.wikipedia.org/wiki/Enaex_Brasil',\n",
       " 'https://pt.wikipedia.org/wiki/Dinastia_Plantageneta',\n",
       " 'https://pt.wikipedia.org/wiki/Assassinato_de_Miguel_Uribe_Turbay',\n",
       " 'https://pt.wikipedia.org/wiki/Bocejo',\n",
       " 'https://pt.wikipedia.org/wiki/Gylmar_dos_Santos_Neves',\n",
       " 'https://pt.wikipedia.org/wiki/Walter_Afanasieff',\n",
       " 'https://pt.wikipedia.org/wiki/Jair_Bolsonaro',\n",
       " 'https://pt.wikipedia.org/wiki/Juscelino_Kubitschek',\n",
       " 'https://pt.wikipedia.org/wiki/Eemeli_Peltonen',\n",
       " 'https://pt.wikipedia.org/wiki/Brasil',\n",
       " 'https://pt.wikipedia.org/wiki/Guerra_das_Rosas',\n",
       " 'https://pt.wikipedia.org/wiki/Conflito_do_Alto_Carabaque',\n",
       " 'https://pt.wikipedia.org/wiki/Wiki',\n",
       " 'https://pt.wikipedia.org/wiki/Presidente_do_Brasil',\n",
       " 'https://pt.wikipedia.org/wiki/All_I_Want_for_Christmas_Is_You',\n",
       " 'https://pt.wikipedia.org/wiki/Circa',\n",
       " 'https://pt.wikipedia.org/wiki/Miguel_Uribe_Turbay',\n",
       " 'https://pt.wikipedia.org/wiki/If_You_Had_My_Love',\n",
       " 'https://pt.wikipedia.org/wiki/Foguete_espacial',\n",
       " 'https://pt.wikipedia.org/wiki/Maria_Firmina_dos_Reis',\n",
       " 'https://pt.wikipedia.org/wiki/Dua_Lipa',\n",
       " 'https://pt.wikipedia.org/wiki/Segunda_Guerra_Mundial']"
      ]
     },
     "execution_count": 4,
     "metadata": {},
     "output_type": "execute_result"
    }
   ],
   "source": [
    "base_url = 'https://pt.wikipedia.org'\n",
    "\n",
    "links = find_url(base_url)\n",
    "links"
   ]
  },
  {
   "cell_type": "code",
   "execution_count": 8,
   "id": "e90a31236a06fb5a",
   "metadata": {
    "ExecuteTime": {
     "end_time": "2025-08-22T13:43:30.863534Z",
     "start_time": "2025-08-22T13:43:30.859568Z"
    }
   },
   "outputs": [
    {
     "ename": "HTTPError",
     "evalue": "HTTP Error 429: Please set a proper user-agent and respect our robot policy https://w.wiki/4wJS. See also T400119",
     "output_type": "error",
     "traceback": [
      "\u001b[31m---------------------------------------------------------------------------\u001b[39m",
      "\u001b[31mHTTPError\u001b[39m                                 Traceback (most recent call last)",
      "\u001b[36mCell\u001b[39m\u001b[36m \u001b[39m\u001b[32mIn[8]\u001b[39m\u001b[32m, line 3\u001b[39m\n\u001b[32m      1\u001b[39m links_pessoas = []\n\u001b[32m      2\u001b[39m \u001b[38;5;28;01mfor\u001b[39;00m link \u001b[38;5;129;01min\u001b[39;00m links:\n\u001b[32m----> \u001b[39m\u001b[32m3\u001b[39m     \u001b[38;5;28;01mif\u001b[39;00m \u001b[43meh_pessoa\u001b[49m\u001b[43m(\u001b[49m\u001b[43mlink\u001b[49m\u001b[43m)\u001b[49m:\n\u001b[32m      4\u001b[39m         \u001b[38;5;28mprint\u001b[39m(link)\n\u001b[32m      5\u001b[39m         links_pessoas.append(link)\n",
      "\u001b[36mCell\u001b[39m\u001b[36m \u001b[39m\u001b[32mIn[7]\u001b[39m\u001b[32m, line 2\u001b[39m, in \u001b[36meh_pessoa\u001b[39m\u001b[34m(url)\u001b[39m\n\u001b[32m      1\u001b[39m \u001b[38;5;28;01mdef\u001b[39;00m\u001b[38;5;250m \u001b[39m\u001b[34meh_pessoa\u001b[39m(url):\n\u001b[32m----> \u001b[39m\u001b[32m2\u001b[39m     html = \u001b[43murlopen\u001b[49m\u001b[43m(\u001b[49m\u001b[43murl\u001b[49m\u001b[43m)\u001b[49m\n\u001b[32m      3\u001b[39m     site = html.read()\n\u001b[32m      4\u001b[39m     soup = BeautifulSoup(site, \u001b[33m'\u001b[39m\u001b[33mhtml.parser\u001b[39m\u001b[33m'\u001b[39m)\n",
      "\u001b[36mFile \u001b[39m\u001b[32mC:\\Program Files\\Python312\\Lib\\urllib\\request.py:215\u001b[39m, in \u001b[36murlopen\u001b[39m\u001b[34m(url, data, timeout, cafile, capath, cadefault, context)\u001b[39m\n\u001b[32m    213\u001b[39m \u001b[38;5;28;01melse\u001b[39;00m:\n\u001b[32m    214\u001b[39m     opener = _opener\n\u001b[32m--> \u001b[39m\u001b[32m215\u001b[39m \u001b[38;5;28;01mreturn\u001b[39;00m \u001b[43mopener\u001b[49m\u001b[43m.\u001b[49m\u001b[43mopen\u001b[49m\u001b[43m(\u001b[49m\u001b[43murl\u001b[49m\u001b[43m,\u001b[49m\u001b[43m \u001b[49m\u001b[43mdata\u001b[49m\u001b[43m,\u001b[49m\u001b[43m \u001b[49m\u001b[43mtimeout\u001b[49m\u001b[43m)\u001b[49m\n",
      "\u001b[36mFile \u001b[39m\u001b[32mC:\\Program Files\\Python312\\Lib\\urllib\\request.py:521\u001b[39m, in \u001b[36mOpenerDirector.open\u001b[39m\u001b[34m(self, fullurl, data, timeout)\u001b[39m\n\u001b[32m    519\u001b[39m \u001b[38;5;28;01mfor\u001b[39;00m processor \u001b[38;5;129;01min\u001b[39;00m \u001b[38;5;28mself\u001b[39m.process_response.get(protocol, []):\n\u001b[32m    520\u001b[39m     meth = \u001b[38;5;28mgetattr\u001b[39m(processor, meth_name)\n\u001b[32m--> \u001b[39m\u001b[32m521\u001b[39m     response = \u001b[43mmeth\u001b[49m\u001b[43m(\u001b[49m\u001b[43mreq\u001b[49m\u001b[43m,\u001b[49m\u001b[43m \u001b[49m\u001b[43mresponse\u001b[49m\u001b[43m)\u001b[49m\n\u001b[32m    523\u001b[39m \u001b[38;5;28;01mreturn\u001b[39;00m response\n",
      "\u001b[36mFile \u001b[39m\u001b[32mC:\\Program Files\\Python312\\Lib\\urllib\\request.py:630\u001b[39m, in \u001b[36mHTTPErrorProcessor.http_response\u001b[39m\u001b[34m(self, request, response)\u001b[39m\n\u001b[32m    627\u001b[39m \u001b[38;5;66;03m# According to RFC 2616, \"2xx\" code indicates that the client's\u001b[39;00m\n\u001b[32m    628\u001b[39m \u001b[38;5;66;03m# request was successfully received, understood, and accepted.\u001b[39;00m\n\u001b[32m    629\u001b[39m \u001b[38;5;28;01mif\u001b[39;00m \u001b[38;5;129;01mnot\u001b[39;00m (\u001b[32m200\u001b[39m <= code < \u001b[32m300\u001b[39m):\n\u001b[32m--> \u001b[39m\u001b[32m630\u001b[39m     response = \u001b[38;5;28;43mself\u001b[39;49m\u001b[43m.\u001b[49m\u001b[43mparent\u001b[49m\u001b[43m.\u001b[49m\u001b[43merror\u001b[49m\u001b[43m(\u001b[49m\n\u001b[32m    631\u001b[39m \u001b[43m        \u001b[49m\u001b[33;43m'\u001b[39;49m\u001b[33;43mhttp\u001b[39;49m\u001b[33;43m'\u001b[39;49m\u001b[43m,\u001b[49m\u001b[43m \u001b[49m\u001b[43mrequest\u001b[49m\u001b[43m,\u001b[49m\u001b[43m \u001b[49m\u001b[43mresponse\u001b[49m\u001b[43m,\u001b[49m\u001b[43m \u001b[49m\u001b[43mcode\u001b[49m\u001b[43m,\u001b[49m\u001b[43m \u001b[49m\u001b[43mmsg\u001b[49m\u001b[43m,\u001b[49m\u001b[43m \u001b[49m\u001b[43mhdrs\u001b[49m\u001b[43m)\u001b[49m\n\u001b[32m    633\u001b[39m \u001b[38;5;28;01mreturn\u001b[39;00m response\n",
      "\u001b[36mFile \u001b[39m\u001b[32mC:\\Program Files\\Python312\\Lib\\urllib\\request.py:559\u001b[39m, in \u001b[36mOpenerDirector.error\u001b[39m\u001b[34m(self, proto, *args)\u001b[39m\n\u001b[32m    557\u001b[39m \u001b[38;5;28;01mif\u001b[39;00m http_err:\n\u001b[32m    558\u001b[39m     args = (\u001b[38;5;28mdict\u001b[39m, \u001b[33m'\u001b[39m\u001b[33mdefault\u001b[39m\u001b[33m'\u001b[39m, \u001b[33m'\u001b[39m\u001b[33mhttp_error_default\u001b[39m\u001b[33m'\u001b[39m) + orig_args\n\u001b[32m--> \u001b[39m\u001b[32m559\u001b[39m     \u001b[38;5;28;01mreturn\u001b[39;00m \u001b[38;5;28;43mself\u001b[39;49m\u001b[43m.\u001b[49m\u001b[43m_call_chain\u001b[49m\u001b[43m(\u001b[49m\u001b[43m*\u001b[49m\u001b[43margs\u001b[49m\u001b[43m)\u001b[49m\n",
      "\u001b[36mFile \u001b[39m\u001b[32mC:\\Program Files\\Python312\\Lib\\urllib\\request.py:492\u001b[39m, in \u001b[36mOpenerDirector._call_chain\u001b[39m\u001b[34m(self, chain, kind, meth_name, *args)\u001b[39m\n\u001b[32m    490\u001b[39m \u001b[38;5;28;01mfor\u001b[39;00m handler \u001b[38;5;129;01min\u001b[39;00m handlers:\n\u001b[32m    491\u001b[39m     func = \u001b[38;5;28mgetattr\u001b[39m(handler, meth_name)\n\u001b[32m--> \u001b[39m\u001b[32m492\u001b[39m     result = \u001b[43mfunc\u001b[49m\u001b[43m(\u001b[49m\u001b[43m*\u001b[49m\u001b[43margs\u001b[49m\u001b[43m)\u001b[49m\n\u001b[32m    493\u001b[39m     \u001b[38;5;28;01mif\u001b[39;00m result \u001b[38;5;129;01mis\u001b[39;00m \u001b[38;5;129;01mnot\u001b[39;00m \u001b[38;5;28;01mNone\u001b[39;00m:\n\u001b[32m    494\u001b[39m         \u001b[38;5;28;01mreturn\u001b[39;00m result\n",
      "\u001b[36mFile \u001b[39m\u001b[32mC:\\Program Files\\Python312\\Lib\\urllib\\request.py:639\u001b[39m, in \u001b[36mHTTPDefaultErrorHandler.http_error_default\u001b[39m\u001b[34m(self, req, fp, code, msg, hdrs)\u001b[39m\n\u001b[32m    638\u001b[39m \u001b[38;5;28;01mdef\u001b[39;00m\u001b[38;5;250m \u001b[39m\u001b[34mhttp_error_default\u001b[39m(\u001b[38;5;28mself\u001b[39m, req, fp, code, msg, hdrs):\n\u001b[32m--> \u001b[39m\u001b[32m639\u001b[39m     \u001b[38;5;28;01mraise\u001b[39;00m HTTPError(req.full_url, code, msg, hdrs, fp)\n",
      "\u001b[31mHTTPError\u001b[39m: HTTP Error 429: Please set a proper user-agent and respect our robot policy https://w.wiki/4wJS. See also T400119"
     ]
    }
   ],
   "source": [
    "links_pessoas = []\n",
    "for link in links:\n",
    "    if eh_pessoa(link):\n",
    "        print(link)\n",
    "        links_pessoas.append(link)\n",
    "        \n",
    "print(links_pessoas)\n",
    "        "
   ]
  },
  {
   "cell_type": "code",
   "execution_count": null,
   "id": "0d921c77",
   "metadata": {},
   "outputs": [],
   "source": []
  }
 ],
 "metadata": {
  "kernelspec": {
   "display_name": ".venv",
   "language": "python",
   "name": "python3"
  },
  "language_info": {
   "codemirror_mode": {
    "name": "ipython",
    "version": 3
   },
   "file_extension": ".py",
   "mimetype": "text/x-python",
   "name": "python",
   "nbconvert_exporter": "python",
   "pygments_lexer": "ipython3",
   "version": "3.12.1"
  }
 },
 "nbformat": 4,
 "nbformat_minor": 5
}

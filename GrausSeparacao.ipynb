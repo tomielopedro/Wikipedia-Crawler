{
 "cells": [
  {
   "cell_type": "code",
   "id": "initial_id",
   "metadata": {
    "collapsed": true,
    "ExecuteTime": {
     "end_time": "2025-08-31T22:27:45.584454Z",
     "start_time": "2025-08-31T22:27:45.562534Z"
    }
   },
   "source": [
    "import networkx as nx\n",
    "import matplotlib.pyplot as plt\n",
    "\n",
    "def carregar_arvore_txt(caminho=\"data/arvore_links.txt\"):\n",
    "    G = nx.DiGraph()\n",
    "    with open(caminho, \"r\", encoding=\"utf-8\") as f:\n",
    "        for linha in f:\n",
    "            if \"->\" in linha:\n",
    "                pai, filho = linha.strip().split(\"->\")\n",
    "                pai, filho = pai.strip(), filho.strip()\n",
    "                G.add_edge(pai, filho)\n",
    "    return G\n",
    "\n",
    "def plotar_arvore(G):\n",
    "    plt.figure(figsize=(14, 10))\n",
    "    pos = nx.spring_layout(G, k=0.5, iterations=50)\n",
    "\n",
    "    nx.draw(\n",
    "        G, pos,\n",
    "        with_labels=False,\n",
    "        node_size=500,\n",
    "        node_color=\"skyblue\",\n",
    "        edge_color=\"gray\",\n",
    "        arrows=True\n",
    "    )\n",
    "\n",
    "    labels = {n: n.split(\"/\")[-1][:15] for n in G.nodes()}\n",
    "    nx.draw_networkx_labels(G, pos, labels, font_size=7)\n",
    "\n",
    "    plt.title(\"Árvore de Pessoas Encontradas na Wikipédia\", fontsize=14)\n",
    "    plt.show()\n",
    "\n",
    "\n",
    "G = carregar_arvore_txt(\"data/arvore_links.txt\")\n",
    "plotar_arvore(G)\n"
   ],
   "outputs": [
    {
     "ename": "FileNotFoundError",
     "evalue": "[Errno 2] No such file or directory: 'arvore_links.txt'",
     "output_type": "error",
     "traceback": [
      "\u001B[0;31m---------------------------------------------------------------------------\u001B[0m",
      "\u001B[0;31mFileNotFoundError\u001B[0m                         Traceback (most recent call last)",
      "Cell \u001B[0;32mIn[4], line 34\u001B[0m\n\u001B[1;32m     30\u001B[0m     plt\u001B[38;5;241m.\u001B[39mtitle(\u001B[38;5;124m\"\u001B[39m\u001B[38;5;124mÁrvore de Pessoas Encontradas na Wikipédia\u001B[39m\u001B[38;5;124m\"\u001B[39m, fontsize\u001B[38;5;241m=\u001B[39m\u001B[38;5;241m14\u001B[39m)\n\u001B[1;32m     31\u001B[0m     plt\u001B[38;5;241m.\u001B[39mshow()\n\u001B[0;32m---> 34\u001B[0m G \u001B[38;5;241m=\u001B[39m carregar_arvore_txt(\u001B[38;5;124m\"\u001B[39m\u001B[38;5;124marvore_links.txt\u001B[39m\u001B[38;5;124m\"\u001B[39m)\n\u001B[1;32m     35\u001B[0m plotar_arvore(G)\n",
      "Cell \u001B[0;32mIn[4], line 6\u001B[0m, in \u001B[0;36mcarregar_arvore_txt\u001B[0;34m(caminho)\u001B[0m\n\u001B[1;32m      4\u001B[0m \u001B[38;5;28;01mdef\u001B[39;00m \u001B[38;5;21mcarregar_arvore_txt\u001B[39m(caminho\u001B[38;5;241m=\u001B[39m\u001B[38;5;124m\"\u001B[39m\u001B[38;5;124marvore_links.txt\u001B[39m\u001B[38;5;124m\"\u001B[39m):\n\u001B[1;32m      5\u001B[0m     G \u001B[38;5;241m=\u001B[39m nx\u001B[38;5;241m.\u001B[39mDiGraph()\n\u001B[0;32m----> 6\u001B[0m     \u001B[38;5;28;01mwith\u001B[39;00m \u001B[38;5;28mopen\u001B[39m(caminho, \u001B[38;5;124m\"\u001B[39m\u001B[38;5;124mr\u001B[39m\u001B[38;5;124m\"\u001B[39m, encoding\u001B[38;5;241m=\u001B[39m\u001B[38;5;124m\"\u001B[39m\u001B[38;5;124mutf-8\u001B[39m\u001B[38;5;124m\"\u001B[39m) \u001B[38;5;28;01mas\u001B[39;00m f:\n\u001B[1;32m      7\u001B[0m         \u001B[38;5;28;01mfor\u001B[39;00m linha \u001B[38;5;129;01min\u001B[39;00m f:\n\u001B[1;32m      8\u001B[0m             \u001B[38;5;28;01mif\u001B[39;00m \u001B[38;5;124m\"\u001B[39m\u001B[38;5;124m->\u001B[39m\u001B[38;5;124m\"\u001B[39m \u001B[38;5;129;01min\u001B[39;00m linha:\n",
      "File \u001B[0;32m~/miniconda3/lib/python3.12/site-packages/IPython/core/interactiveshell.py:284\u001B[0m, in \u001B[0;36m_modified_open\u001B[0;34m(file, *args, **kwargs)\u001B[0m\n\u001B[1;32m    277\u001B[0m \u001B[38;5;28;01mif\u001B[39;00m file \u001B[38;5;129;01min\u001B[39;00m {\u001B[38;5;241m0\u001B[39m, \u001B[38;5;241m1\u001B[39m, \u001B[38;5;241m2\u001B[39m}:\n\u001B[1;32m    278\u001B[0m     \u001B[38;5;28;01mraise\u001B[39;00m \u001B[38;5;167;01mValueError\u001B[39;00m(\n\u001B[1;32m    279\u001B[0m         \u001B[38;5;124mf\u001B[39m\u001B[38;5;124m\"\u001B[39m\u001B[38;5;124mIPython won\u001B[39m\u001B[38;5;124m'\u001B[39m\u001B[38;5;124mt let you open fd=\u001B[39m\u001B[38;5;132;01m{\u001B[39;00mfile\u001B[38;5;132;01m}\u001B[39;00m\u001B[38;5;124m by default \u001B[39m\u001B[38;5;124m\"\u001B[39m\n\u001B[1;32m    280\u001B[0m         \u001B[38;5;124m\"\u001B[39m\u001B[38;5;124mas it is likely to crash IPython. If you know what you are doing, \u001B[39m\u001B[38;5;124m\"\u001B[39m\n\u001B[1;32m    281\u001B[0m         \u001B[38;5;124m\"\u001B[39m\u001B[38;5;124myou can use builtins\u001B[39m\u001B[38;5;124m'\u001B[39m\u001B[38;5;124m open.\u001B[39m\u001B[38;5;124m\"\u001B[39m\n\u001B[1;32m    282\u001B[0m     )\n\u001B[0;32m--> 284\u001B[0m \u001B[38;5;28;01mreturn\u001B[39;00m io_open(file, \u001B[38;5;241m*\u001B[39margs, \u001B[38;5;241m*\u001B[39m\u001B[38;5;241m*\u001B[39mkwargs)\n",
      "\u001B[0;31mFileNotFoundError\u001B[0m: [Errno 2] No such file or directory: 'arvore_links.txt'"
     ]
    }
   ],
   "execution_count": 4
  },
  {
   "metadata": {
    "ExecuteTime": {
     "end_time": "2025-08-29T13:44:10.885938Z",
     "start_time": "2025-08-29T13:44:10.883019Z"
    }
   },
   "cell_type": "code",
   "source": [
    "def grau_de_separacao(G, pessoa1, pessoa2):\n",
    "    try:\n",
    "        caminho = nx.shortest_path(G, source=pessoa1, target=pessoa2)\n",
    "        grau = len(caminho) - 1\n",
    "        return grau, caminho\n",
    "    except nx.NetworkXNoPath:\n",
    "        return None, []\n",
    "    except nx.NodeNotFound as e:\n",
    "        print(f\"Erro: {e}\")\n",
    "        return None, []\n",
    "\n",
    "\n",
    "\n",
    "pessoa1 = \"https://pt.wikipedia.org/wiki/Dennis_Quaid\"\n",
    "pessoa2 = \"https://pt.wikipedia.org/wiki/Woody_Harrelson\"\n",
    "\n",
    "grau, caminho = grau_de_separacao(G, pessoa1, pessoa2)\n",
    "\n",
    "if grau is not None:\n",
    "    print(f\"Grau de separação entre:\\n{pessoa1}\\n{pessoa2}\\n\")\n",
    "    print(f\"➡ Grau: {grau}\")\n",
    "    print(\"➡ Caminho:\")\n",
    "    for p in caminho:\n",
    "        print(\"   \", p)\n",
    "else:\n",
    "    print(\"Não existe conexão entre essas pessoas.\")"
   ],
   "id": "b6245e6b1a569f70",
   "outputs": [
    {
     "name": "stdout",
     "output_type": "stream",
     "text": [
      "Grau de separação entre:\n",
      "https://pt.wikipedia.org/wiki/Dennis_Quaid\n",
      "https://pt.wikipedia.org/wiki/Woody_Harrelson\n",
      "\n",
      "➡ Grau: 1\n",
      "➡ Caminho:\n",
      "    https://pt.wikipedia.org/wiki/Dennis_Quaid\n",
      "    https://pt.wikipedia.org/wiki/Woody_Harrelson\n"
     ]
    }
   ],
   "execution_count": 15
  },
  {
   "metadata": {},
   "cell_type": "code",
   "outputs": [],
   "execution_count": null,
   "source": "",
   "id": "c86143bf7a93e418"
  }
 ],
 "metadata": {
  "kernelspec": {
   "display_name": "Python 3",
   "language": "python",
   "name": "python3"
  },
  "language_info": {
   "codemirror_mode": {
    "name": "ipython",
    "version": 2
   },
   "file_extension": ".py",
   "mimetype": "text/x-python",
   "name": "python",
   "nbconvert_exporter": "python",
   "pygments_lexer": "ipython2",
   "version": "2.7.6"
  }
 },
 "nbformat": 4,
 "nbformat_minor": 5
}

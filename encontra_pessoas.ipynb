{
 "cells": [
  {
   "cell_type": "markdown",
   "id": "3e147215",
   "metadata": {},
   "source": [
    "### 00. Desenvolvimento"
   ]
  },
  {
   "cell_type": "code",
   "execution_count": null,
   "id": "881258d6",
   "metadata": {
    "ExecuteTime": {
     "end_time": "2025-08-25T13:07:29.986406Z",
     "start_time": "2025-08-25T13:07:29.982147Z"
    }
   },
   "outputs": [],
   "source": [
    "from urllib.request import urlopen\n",
    "from bs4 import BeautifulSoup\n",
    "import regex as re\n",
    "import queue"
   ]
  },
  {
   "cell_type": "code",
   "execution_count": null,
   "id": "d3ff0ec4",
   "metadata": {
    "ExecuteTime": {
     "end_time": "2025-08-25T13:07:49.712382Z",
     "start_time": "2025-08-25T13:07:49.503293Z"
    }
   },
   "outputs": [],
   "source": [
    "# Teste com um link escolhido\n",
    "URL = \"https://pt.wikipedia.org/\"\n",
    "\n",
    "# Faz o resquest da página e pega o html\n",
    "html = urlopen(URL)\n",
    "# Extrai o html para um txt\n",
    "site = html.read()"
   ]
  },
  {
   "cell_type": "code",
   "execution_count": null,
   "id": "ef1b7c20",
   "metadata": {},
   "outputs": [],
   "source": [
    "soup = BeautifulSoup(site, 'html.parser')"
   ]
  },
  {
   "cell_type": "code",
   "execution_count": null,
   "id": "9b2069b8",
   "metadata": {},
   "outputs": [],
   "source": [
    "infobox = soup.find_all(\"table\", class_=re.compile(\"^[iI]nfobox\"))\n",
    "\n",
    "if infobox is not None:\n",
    "    atributos = []\n",
    "    for linha in infobox:\n",
    "        x = linha.find_all('td', {'scope': \"row\"})\n",
    "        \n",
    "        for i in x:\n",
    "            atributos.append(i)\n",
    "else:\n",
    "    print(\"Sem infobox\")"
   ]
  },
  {
   "cell_type": "code",
   "execution_count": null,
   "id": "f7aa4655",
   "metadata": {},
   "outputs": [],
   "source": [
    "link_de_pessoas = []\n",
    "for at in atributos:\n",
    "    # Criar if's com regex para encontrar atributos de pessoas\n",
    "    # Ex: Nome completo, Nome, Data de nascimento, Nascimento, Nacionalidade, Assinatura etc.\n",
    "    if re.search(\"[nN]ome\", at.text):\n",
    "        link_de_pessoas.append(at)"
   ]
  },
  {
   "cell_type": "markdown",
   "id": "16d1192c",
   "metadata": {},
   "source": [
    "### 01. Código Consolidado"
   ]
  },
  {
   "cell_type": "code",
   "execution_count": null,
   "id": "42478347",
   "metadata": {},
   "outputs": [],
   "source": [
    "from urllib.request import urlopen\n",
    "from bs4 import BeautifulSoup\n",
    "import regex as re\n",
    "\n",
    "# Teste com um link escolhido\n",
    "URL = \"https://pt.wikipedia.org/wiki/Ryan_Gosling\"\n",
    "\n",
    "# Em produção, será uma lista de URLs\n",
    "# URL = [...]\n",
    "# link_de_pessoas = []\n",
    "# for url in URL:\n",
    "#   html = urlopen(url)\n",
    "#   ...\n",
    "\n",
    "html = urlopen(URL)\n",
    "site = html.read()\n",
    "soup = BeautifulSoup(site, 'html.parser')\n",
    "\n",
    "infobox = soup.find_all(\"table\", class_=re.compile(\"^[iI]nfobox\"))\n",
    "if infobox is not None:\n",
    "    atributos = []\n",
    "    for linha in infobox:\n",
    "        x = linha.find_all('td', {'scope': \"row\"})\n",
    "        for i in x:\n",
    "            atributos.append(i)\n",
    "else:\n",
    "    print(\"Sem infobox\")\n",
    "\n",
    "for at in atributos:\n",
    "    # Criar if's com regex para encontrar atributos de pessoas\n",
    "    # Ex: Nome completo, Nome, Data de nascimento, Nascimento, Nacionalidade, Assinatura etc.\n",
    "    if re.search(\"[nN]ome\", at.text):\n",
    "        pass"
   ]
  },
  {
   "cell_type": "code",
   "execution_count": null,
   "id": "6e1f72ce",
   "metadata": {},
   "outputs": [],
   "source": [
    "from urllib.request import urlopen\n",
    "from bs4 import BeautifulSoup\n",
    "import regex as re\n",
    "\n",
    "# Teste com um link escolhido\n",
    "URL = \"https://pt.wikipedia.org/wiki/Ryan_Gosling\"\n",
    "URL = \"https://pt.wikipedia.org/wiki/Daniel_Noboa\"\n",
    "\n",
    "# Em produção, será uma lista de URLs\n",
    "# URL = [...]\n",
    "# link_de_pessoas = []\n",
    "# for url in URL:\n",
    "#   html = urlopen(url)\n",
    "#   ...\n",
    "\n",
    "\n",
    "\n",
    "def eh_pessoa(url):\n",
    "    html = urlopen(url)\n",
    "    site = html.read()\n",
    "    soup = BeautifulSoup(site, 'html.parser')\n",
    "    \n",
    "    infobox = soup.find_all(\"table\", class_=re.compile(\"^[iI]nfobox\"))\n",
    "    if infobox is not None:\n",
    "        atributos = []\n",
    "        for linha in infobox:\n",
    "            x = linha.find_all('td', {'scope': \"row\"})\n",
    "            for i in x:\n",
    "                atributos.append(i)\n",
    "    else:\n",
    "        print(\"Sem infobox\")\n",
    "    \n",
    "    for at in atributos:\n",
    "        # Criar if's com regex para encontrar atributos de pessoas\n",
    "        # Ex: Nome completo, Nome, Data de nascimento, Nascimento, Nacionalidade, Assinatura etc.\n",
    "        if re.search(\"[nN]ome\", at.text):\n",
    "            pass"
   ]
  },
  {
   "cell_type": "code",
   "execution_count": null,
   "id": "431fc492db61b097",
   "metadata": {},
   "outputs": [],
   "source": [
    "from urllib.request import urlopen, Request\n",
    "from bs4 import BeautifulSoup\n",
    "import regex as re\n",
    "\n",
    "# Teste com um link escolhido\n",
    "URL = \"https://pt.wikipedia.org/wiki/Ryan_Gosling\"\n",
    "\n",
    "def eh_pessoa(url):\n",
    "\n",
    "    headers = {\n",
    "        \"User-Agent\": (\n",
    "            \"Mozilla/5.0 (Macintosh; Intel Mac OS X 10_15_7) \"\n",
    "            \"AppleWebKit/537.36 (KHTML, like Gecko) \"\n",
    "            \"Chrome/115.0 Safari/537.36\"\n",
    "        )\n",
    "    }\n",
    "\n",
    "    req = Request(url, headers=headers)   # define o User-Agent\n",
    "    \n",
    "    \"\"\"Verifica se a URL corresponde a uma pessoa\"\"\"\n",
    "    html = urlopen(req)\n",
    "    site = html.read()\n",
    "\n",
    "    soup = BeautifulSoup(site, 'html.parser')\n",
    "\n",
    "    infobox = soup.find(\"table\", class_=re.compile(\"^[iI]nfobox\"))\n",
    "    if not infobox:\n",
    "        return False\n",
    "\n",
    "    print(infobox.text)\n",
    "    # atributos = infobox.find_all('td', {'scope': \"row\"})\n",
    "    prob = 0\n",
    "    for at in atributos:\n",
    "        print(at.text)\n",
    "        if re.search(\"[Nn]ome\", at.text):\n",
    "            prob += 1\n",
    "        if re.search(\"[Nn]ascimento|[Dd]ata de [Nn]ascimento|[Mm]orte\", at.text): \n",
    "            prob += 1\n",
    "        if re.search(\"[Nn]acionalidade|[Cc]idadania\", at.text): \n",
    "            prob += 1\n",
    "        if re.search(\"[Aa]ssinatura\", at.text): \n",
    "            prob += 1\n",
    "        if re.search(\"[Pp]rofissão|[Oo]cupação\", at.text):  \n",
    "            prob += 1\n",
    "        if re.search(\"[Ee]sposa|[Cc]ônjugue\", at.text):\n",
    "            prob += 1\n",
    "\n",
    "    # prob_ajustada = (prob - 0) / (6 - 0)\n",
    "    prob_ajustada = prob / 5\n",
    "    # prob_ajustada = prob\n",
    "\n",
    "    return prob_ajustada\n",
    "\n",
    "eh_pessoa(URL)"
   ]
  },
  {
   "cell_type": "code",
   "execution_count": null,
   "id": "7fc27510",
   "metadata": {},
   "outputs": [],
   "source": [
    "from urllib.request import urlopen, Request\n",
    "from bs4 import BeautifulSoup\n",
    "import regex as re"
   ]
  },
  {
   "cell_type": "code",
   "execution_count": null,
   "id": "aeb9eb95d5b969a3",
   "metadata": {},
   "outputs": [],
   "source": [
    "# Teste com um link escolhido\n",
    "URL = \"https://pt.wikipedia.org/wiki/Ryan_Gosling\"\n",
    "URL = \"https://pt.wikipedia.org/wiki/Daniel_Noboa\"\n",
    "headers = {\n",
    "    \"User-Agent\": (\n",
    "        \"Mozilla/5.0 (Macintosh; Intel Mac OS X 10_15_7) \"\n",
    "        \"AppleWebKit/537.36 (KHTML, like Gecko) \"\n",
    "        \"Chrome/115.0 Safari/537.36\"\n",
    "    )\n",
    "}\n",
    "\n",
    "req = Request(URL, headers=headers)   # define o User-Agent\n",
    "\n",
    "\"\"\"Verifica se a URL corresponde a uma pessoa\"\"\"\n",
    "html = urlopen(req)\n",
    "site = html.read()\n",
    "\n",
    "soup = BeautifulSoup(site, 'html.parser')\n",
    "\n",
    "infobox = soup.find(\"table\", class_=re.compile(\"^[iI]nfobox\"))"
   ]
  },
  {
   "cell_type": "code",
   "execution_count": null,
   "id": "699f2973",
   "metadata": {},
   "outputs": [],
   "source": [
    "infobox_list = infobox.text.split('\\n')"
   ]
  },
  {
   "cell_type": "code",
   "execution_count": null,
   "id": "41090fab",
   "metadata": {},
   "outputs": [],
   "source": [
    "list(filter(lambda x: x != '', infobox_list))"
   ]
  },
  {
   "cell_type": "code",
   "execution_count": 10,
   "id": "f69a3c57",
   "metadata": {},
   "outputs": [
    {
     "data": {
      "text/plain": [
       "'daniel noboanoboa em 202456.° presidente do equadorno cargoperíodo23 de novembro de 2023até a atualidadevice-presidenteverónica abad (2023-2025)maría josé pinto (2025-presente)antecessor(a)guillermo lassomembro da assembleia nacional do equador por santa elenaperíodo14 de maio de 2021 até 17 de maio de 2023dados pessoaisnome completodaniel roy gilchrist noboa azínnascimento30 de novembro de 1987\\xa0(37\\xa0anos) miami, estados unidosnacionalidadeequatorianoprogenitoresmãe: anabella azinpai: álvaro noboaalma materuniversidade de nova iorquecônjuge\\ngabriela goldbaum (c. 2018; div. 2021)\\nlavinia valbonesi (c. 2021)\\nfilhos(as)2partido\\necuatoriano unido (2021)\\npartido suma (2021–2022)\\nação democrática nacional (2022–presente)\\nprofissãoempresárioassinatura'"
      ]
     },
     "execution_count": 10,
     "metadata": {},
     "output_type": "execute_result"
    }
   ],
   "source": [
    "infobox.text.lower()"
   ]
  },
  {
   "cell_type": "code",
   "execution_count": null,
   "id": "1df46652",
   "metadata": {},
   "outputs": [],
   "source": []
  }
 ],
 "metadata": {
  "kernelspec": {
   "display_name": ".venv",
   "language": "python",
   "name": "python3"
  },
  "language_info": {
   "codemirror_mode": {
    "name": "ipython",
    "version": 3
   },
   "file_extension": ".py",
   "mimetype": "text/x-python",
   "name": "python",
   "nbconvert_exporter": "python",
   "pygments_lexer": "ipython3",
   "version": "3.12.4"
  }
 },
 "nbformat": 4,
 "nbformat_minor": 5
}

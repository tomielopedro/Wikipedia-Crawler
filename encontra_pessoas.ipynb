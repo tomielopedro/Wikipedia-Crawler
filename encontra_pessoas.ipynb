{
 "cells": [
  {
   "cell_type": "code",
   "execution_count": 4,
   "id": "881258d6",
   "metadata": {},
   "outputs": [],
   "source": [
    "from urllib.request import urlopen\n",
    "from bs4 import BeautifulSoup\n",
    "import regex as re"
   ]
  },
  {
   "cell_type": "code",
   "execution_count": null,
   "id": "d3ff0ec4",
   "metadata": {},
   "outputs": [],
   "source": [
    "# Teste com um link escolhido\n",
    "URL = \"https://pt.wikipedia.org/wiki/Ryan_Gosling\"\n",
    "\n",
    "# Faz o resquest da página e pega o html\n",
    "html = urlopen(URL)\n",
    "# Extrai o html para um txt\n",
    "site = html.read()"
   ]
  },
  {
   "cell_type": "code",
   "execution_count": null,
   "id": "ef1b7c20",
   "metadata": {},
   "outputs": [],
   "source": [
    "soup = BeautifulSoup(site, 'html.parser')"
   ]
  },
  {
   "cell_type": "code",
   "execution_count": null,
   "id": "9b2069b8",
   "metadata": {},
   "outputs": [],
   "source": [
    "infobox = soup.find_all(\"table\", class_=re.compile(\"^infobox\"))\n",
    "\n",
    "if infobox is not None:\n",
    "    atributos = []\n",
    "    for linha in infobox:\n",
    "        x = linha.find_all('td', {'scope': \"row\"})\n",
    "        \n",
    "        for i in x:\n",
    "            atributos.append(i)\n",
    "else:\n",
    "    print(\"Sem infobox\")"
   ]
  },
  {
   "cell_type": "code",
   "execution_count": 89,
   "id": "f7aa4655",
   "metadata": {},
   "outputs": [
    {
     "name": "stdout",
     "output_type": "stream",
     "text": [
      "pessoa\n"
     ]
    }
   ],
   "source": [
    "for at in atributos:\n",
    "    # Criar if's com regex para encontrar atributos de pessoas\n",
    "    # Ex: Nome completo, Nome, Data de nascimento, Nascimento, Nacionalidade, Assinatura etc.\n",
    "    if re.search(\"[nN]ome\", at.text):\n",
    "        print(\"pessoa\")"
   ]
  },
  {
   "cell_type": "code",
   "execution_count": null,
   "id": "42478347",
   "metadata": {},
   "outputs": [],
   "source": []
  }
 ],
 "metadata": {
  "kernelspec": {
   "display_name": ".venv",
   "language": "python",
   "name": "python3"
  },
  "language_info": {
   "codemirror_mode": {
    "name": "ipython",
    "version": 3
   },
   "file_extension": ".py",
   "mimetype": "text/x-python",
   "name": "python",
   "nbconvert_exporter": "python",
   "pygments_lexer": "ipython3",
   "version": "3.12.4"
  }
 },
 "nbformat": 4,
 "nbformat_minor": 5
}
